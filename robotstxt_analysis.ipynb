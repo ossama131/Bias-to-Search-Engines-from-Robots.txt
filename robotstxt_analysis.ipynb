{
 "cells": [
  {
   "cell_type": "code",
   "execution_count": 17,
   "id": "5c8b3503",
   "metadata": {},
   "outputs": [],
   "source": [
    "import os\n",
    "\n",
    "from urllib.parse import urlparse\n",
    "\n",
    "import pandas as pd\n",
    "import numpy as np\n",
    "\n",
    "import matplotlib.pyplot as plt\n",
    "import seaborn as sns\n",
    "\n",
    "from prettytable import PrettyTable"
   ]
  },
  {
   "cell_type": "code",
   "execution_count": 79,
   "id": "652b4b7f",
   "metadata": {},
   "outputs": [
    {
     "data": {
      "text/plain": [
       "['/home/osama/CC-MAIN-2021-43-robotstxt/output/1634323583423.96.csv',\n",
       " '/home/osama/CC-MAIN-2021-43-robotstxt/output/1634323583083.92.csv',\n",
       " '/home/osama/CC-MAIN-2021-43-robotstxt/output/1634323583087.95.csv',\n",
       " '/home/osama/CC-MAIN-2021-43-robotstxt/output/1634323583408.93.csv']"
      ]
     },
     "execution_count": 79,
     "metadata": {},
     "output_type": "execute_result"
    }
   ],
   "source": [
    "path = '/home/osama/CC-MAIN-2021-43-robotstxt/output/'\n",
    "csv_files = []\n",
    "\n",
    "for file_name in os.listdir(path='/home/osama/CC-MAIN-2021-43-robotstxt/output/'):\n",
    "    csv_files.append(path + file_name)\n",
    "\n",
    "csv_files"
   ]
  },
  {
   "cell_type": "code",
   "execution_count": 80,
   "id": "fb651b08",
   "metadata": {},
   "outputs": [
    {
     "name": "stdout",
     "output_type": "stream",
     "text": [
      "1634323583423.96.csv --> 592722/592722\n",
      "1634323583083.92.csv --> 1717608/2195703\n",
      "1634323583087.95.csv --> 590460/590460\n",
      "1634323583408.93.csv --> 580222/580222\n"
     ]
    }
   ],
   "source": [
    "df_list = []\n",
    "\n",
    "for file in csv_files:\n",
    "    df = pd.read_csv(file, header=None).rename(columns={1:'robotstxt_url', 2:'no_bias', 3:'favored', 4:'disfavored', 5:'fav_count_diff', 6:'disfav_count_diff'}).drop(columns=[0], axis=1)\n",
    "    df_list.append(df)\n",
    "    print(file.split('/')[-1] + ' --> ' + str(df['robotstxt_url'].nunique()) + '/' + str(len(df)))"
   ]
  },
  {
   "cell_type": "code",
   "execution_count": null,
   "id": "aa8c596c",
   "metadata": {},
   "outputs": [],
   "source": [
    "df = pd.concat(df_list, axis=0, ignore_index=True)"
   ]
  },
  {
   "cell_type": "code",
   "execution_count": 82,
   "id": "56d1b115",
   "metadata": {},
   "outputs": [
    {
     "data": {
      "text/html": [
       "<div>\n",
       "<style scoped>\n",
       "    .dataframe tbody tr th:only-of-type {\n",
       "        vertical-align: middle;\n",
       "    }\n",
       "\n",
       "    .dataframe tbody tr th {\n",
       "        vertical-align: top;\n",
       "    }\n",
       "\n",
       "    .dataframe thead th {\n",
       "        text-align: right;\n",
       "    }\n",
       "</style>\n",
       "<table border=\"1\" class=\"dataframe\">\n",
       "  <thead>\n",
       "    <tr style=\"text-align: right;\">\n",
       "      <th></th>\n",
       "      <th>robotstxt_url</th>\n",
       "      <th>no_bias</th>\n",
       "      <th>favored</th>\n",
       "      <th>disfavored</th>\n",
       "      <th>fav_count_diff</th>\n",
       "      <th>disfav_count_diff</th>\n",
       "    </tr>\n",
       "  </thead>\n",
       "  <tbody>\n",
       "    <tr>\n",
       "      <th>0</th>\n",
       "      <td>http://1lt.upc04m9.cn/robots.txt</td>\n",
       "      <td>[]</td>\n",
       "      <td>[]</td>\n",
       "      <td>[]</td>\n",
       "      <td>[]</td>\n",
       "      <td>[]</td>\n",
       "    </tr>\n",
       "    <tr>\n",
       "      <th>1</th>\n",
       "      <td>http://25film.net/robots.txt</td>\n",
       "      <td>[]</td>\n",
       "      <td>[]</td>\n",
       "      <td>[]</td>\n",
       "      <td>[]</td>\n",
       "      <td>[]</td>\n",
       "    </tr>\n",
       "    <tr>\n",
       "      <th>2</th>\n",
       "      <td>http://344.oplkuqz.cn/robots.txt</td>\n",
       "      <td>[]</td>\n",
       "      <td>[]</td>\n",
       "      <td>[]</td>\n",
       "      <td>[]</td>\n",
       "      <td>[]</td>\n",
       "    </tr>\n",
       "    <tr>\n",
       "      <th>3</th>\n",
       "      <td>http://a1groundtransportation.com/robots.txt</td>\n",
       "      <td>[]</td>\n",
       "      <td>[]</td>\n",
       "      <td>[]</td>\n",
       "      <td>[]</td>\n",
       "      <td>[]</td>\n",
       "    </tr>\n",
       "    <tr>\n",
       "      <th>4</th>\n",
       "      <td>http://abdipersadafm.co.id/robots.txt</td>\n",
       "      <td>[]</td>\n",
       "      <td>[]</td>\n",
       "      <td>[]</td>\n",
       "      <td>[]</td>\n",
       "      <td>[]</td>\n",
       "    </tr>\n",
       "    <tr>\n",
       "      <th>...</th>\n",
       "      <td>...</td>\n",
       "      <td>...</td>\n",
       "      <td>...</td>\n",
       "      <td>...</td>\n",
       "      <td>...</td>\n",
       "      <td>...</td>\n",
       "    </tr>\n",
       "    <tr>\n",
       "      <th>3959102</th>\n",
       "      <td>https://youriguide.com/robots.txt</td>\n",
       "      <td>[]</td>\n",
       "      <td>[]</td>\n",
       "      <td>[]</td>\n",
       "      <td>[]</td>\n",
       "      <td>[]</td>\n",
       "    </tr>\n",
       "    <tr>\n",
       "      <th>3959103</th>\n",
       "      <td>https://yourstrulyxblog.com/robots.txt</td>\n",
       "      <td>[]</td>\n",
       "      <td>[]</td>\n",
       "      <td>[]</td>\n",
       "      <td>[]</td>\n",
       "      <td>[]</td>\n",
       "    </tr>\n",
       "    <tr>\n",
       "      <th>3959104</th>\n",
       "      <td>https://youtube-binaryoption.forextr.website/r...</td>\n",
       "      <td>[]</td>\n",
       "      <td>[]</td>\n",
       "      <td>[]</td>\n",
       "      <td>[]</td>\n",
       "      <td>[]</td>\n",
       "    </tr>\n",
       "    <tr>\n",
       "      <th>3959105</th>\n",
       "      <td>https://zvukipro.com/robots.txt</td>\n",
       "      <td>[]</td>\n",
       "      <td>['Mediapartners-Google']</td>\n",
       "      <td>[]</td>\n",
       "      <td>[43]</td>\n",
       "      <td>[]</td>\n",
       "    </tr>\n",
       "    <tr>\n",
       "      <th>3959106</th>\n",
       "      <td>https://zwahxd.cn/robots.txt</td>\n",
       "      <td>[]</td>\n",
       "      <td>[]</td>\n",
       "      <td>[]</td>\n",
       "      <td>[]</td>\n",
       "      <td>[]</td>\n",
       "    </tr>\n",
       "  </tbody>\n",
       "</table>\n",
       "<p>3959107 rows × 6 columns</p>\n",
       "</div>"
      ],
      "text/plain": [
       "                                             robotstxt_url no_bias  \\\n",
       "0                         http://1lt.upc04m9.cn/robots.txt      []   \n",
       "1                             http://25film.net/robots.txt      []   \n",
       "2                         http://344.oplkuqz.cn/robots.txt      []   \n",
       "3             http://a1groundtransportation.com/robots.txt      []   \n",
       "4                    http://abdipersadafm.co.id/robots.txt      []   \n",
       "...                                                    ...     ...   \n",
       "3959102                  https://youriguide.com/robots.txt      []   \n",
       "3959103             https://yourstrulyxblog.com/robots.txt      []   \n",
       "3959104  https://youtube-binaryoption.forextr.website/r...      []   \n",
       "3959105                    https://zvukipro.com/robots.txt      []   \n",
       "3959106                       https://zwahxd.cn/robots.txt      []   \n",
       "\n",
       "                          favored disfavored fav_count_diff disfav_count_diff  \n",
       "0                              []         []             []                []  \n",
       "1                              []         []             []                []  \n",
       "2                              []         []             []                []  \n",
       "3                              []         []             []                []  \n",
       "4                              []         []             []                []  \n",
       "...                           ...        ...            ...               ...  \n",
       "3959102                        []         []             []                []  \n",
       "3959103                        []         []             []                []  \n",
       "3959104                        []         []             []                []  \n",
       "3959105  ['Mediapartners-Google']         []           [43]                []  \n",
       "3959106                        []         []             []                []  \n",
       "\n",
       "[3959107 rows x 6 columns]"
      ]
     },
     "execution_count": 82,
     "metadata": {},
     "output_type": "execute_result"
    }
   ],
   "source": [
    "df"
   ]
  },
  {
   "cell_type": "code",
   "execution_count": 83,
   "id": "5ef2ff6b",
   "metadata": {},
   "outputs": [],
   "source": [
    "df.drop_duplicates(keep='first', inplace=True)"
   ]
  },
  {
   "cell_type": "code",
   "execution_count": 84,
   "id": "9738efea",
   "metadata": {},
   "outputs": [
    {
     "data": {
      "text/html": [
       "<div>\n",
       "<style scoped>\n",
       "    .dataframe tbody tr th:only-of-type {\n",
       "        vertical-align: middle;\n",
       "    }\n",
       "\n",
       "    .dataframe tbody tr th {\n",
       "        vertical-align: top;\n",
       "    }\n",
       "\n",
       "    .dataframe thead th {\n",
       "        text-align: right;\n",
       "    }\n",
       "</style>\n",
       "<table border=\"1\" class=\"dataframe\">\n",
       "  <thead>\n",
       "    <tr style=\"text-align: right;\">\n",
       "      <th></th>\n",
       "      <th>robotstxt_url</th>\n",
       "      <th>no_bias</th>\n",
       "      <th>favored</th>\n",
       "      <th>disfavored</th>\n",
       "      <th>fav_count_diff</th>\n",
       "      <th>disfav_count_diff</th>\n",
       "    </tr>\n",
       "  </thead>\n",
       "  <tbody>\n",
       "    <tr>\n",
       "      <th>0</th>\n",
       "      <td>http://1lt.upc04m9.cn/robots.txt</td>\n",
       "      <td>[]</td>\n",
       "      <td>[]</td>\n",
       "      <td>[]</td>\n",
       "      <td>[]</td>\n",
       "      <td>[]</td>\n",
       "    </tr>\n",
       "    <tr>\n",
       "      <th>1</th>\n",
       "      <td>http://25film.net/robots.txt</td>\n",
       "      <td>[]</td>\n",
       "      <td>[]</td>\n",
       "      <td>[]</td>\n",
       "      <td>[]</td>\n",
       "      <td>[]</td>\n",
       "    </tr>\n",
       "    <tr>\n",
       "      <th>2</th>\n",
       "      <td>http://344.oplkuqz.cn/robots.txt</td>\n",
       "      <td>[]</td>\n",
       "      <td>[]</td>\n",
       "      <td>[]</td>\n",
       "      <td>[]</td>\n",
       "      <td>[]</td>\n",
       "    </tr>\n",
       "    <tr>\n",
       "      <th>3</th>\n",
       "      <td>http://a1groundtransportation.com/robots.txt</td>\n",
       "      <td>[]</td>\n",
       "      <td>[]</td>\n",
       "      <td>[]</td>\n",
       "      <td>[]</td>\n",
       "      <td>[]</td>\n",
       "    </tr>\n",
       "    <tr>\n",
       "      <th>4</th>\n",
       "      <td>http://abdipersadafm.co.id/robots.txt</td>\n",
       "      <td>[]</td>\n",
       "      <td>[]</td>\n",
       "      <td>[]</td>\n",
       "      <td>[]</td>\n",
       "      <td>[]</td>\n",
       "    </tr>\n",
       "    <tr>\n",
       "      <th>...</th>\n",
       "      <td>...</td>\n",
       "      <td>...</td>\n",
       "      <td>...</td>\n",
       "      <td>...</td>\n",
       "      <td>...</td>\n",
       "      <td>...</td>\n",
       "    </tr>\n",
       "    <tr>\n",
       "      <th>3378059</th>\n",
       "      <td>https://zao-era.ru/robots.txt</td>\n",
       "      <td>[]</td>\n",
       "      <td>[]</td>\n",
       "      <td>[]</td>\n",
       "      <td>[]</td>\n",
       "      <td>[]</td>\n",
       "    </tr>\n",
       "    <tr>\n",
       "      <th>3378060</th>\n",
       "      <td>https://zappiagioielli.com/robots.txt</td>\n",
       "      <td>[]</td>\n",
       "      <td>[]</td>\n",
       "      <td>[]</td>\n",
       "      <td>[]</td>\n",
       "      <td>[]</td>\n",
       "    </tr>\n",
       "    <tr>\n",
       "      <th>3378062</th>\n",
       "      <td>https://zh.move-glamping.com/robots.txt</td>\n",
       "      <td>[]</td>\n",
       "      <td>[]</td>\n",
       "      <td>['AdsBot-Google', 'AdsBot-Google-Mobile']</td>\n",
       "      <td>[]</td>\n",
       "      <td>[-3, -3]</td>\n",
       "    </tr>\n",
       "    <tr>\n",
       "      <th>3378063</th>\n",
       "      <td>https://zitamama.wordpress.com/robots.txt</td>\n",
       "      <td>[]</td>\n",
       "      <td>[]</td>\n",
       "      <td>[]</td>\n",
       "      <td>[]</td>\n",
       "      <td>[]</td>\n",
       "    </tr>\n",
       "    <tr>\n",
       "      <th>3378064</th>\n",
       "      <td>https://zlatanov.ro/robots.txt</td>\n",
       "      <td>[]</td>\n",
       "      <td>[]</td>\n",
       "      <td>[]</td>\n",
       "      <td>[]</td>\n",
       "      <td>[]</td>\n",
       "    </tr>\n",
       "  </tbody>\n",
       "</table>\n",
       "<p>2022878 rows × 6 columns</p>\n",
       "</div>"
      ],
      "text/plain": [
       "                                        robotstxt_url no_bias favored  \\\n",
       "0                    http://1lt.upc04m9.cn/robots.txt      []      []   \n",
       "1                        http://25film.net/robots.txt      []      []   \n",
       "2                    http://344.oplkuqz.cn/robots.txt      []      []   \n",
       "3        http://a1groundtransportation.com/robots.txt      []      []   \n",
       "4               http://abdipersadafm.co.id/robots.txt      []      []   \n",
       "...                                               ...     ...     ...   \n",
       "3378059                 https://zao-era.ru/robots.txt      []      []   \n",
       "3378060         https://zappiagioielli.com/robots.txt      []      []   \n",
       "3378062       https://zh.move-glamping.com/robots.txt      []      []   \n",
       "3378063     https://zitamama.wordpress.com/robots.txt      []      []   \n",
       "3378064                https://zlatanov.ro/robots.txt      []      []   \n",
       "\n",
       "                                        disfavored fav_count_diff  \\\n",
       "0                                               []             []   \n",
       "1                                               []             []   \n",
       "2                                               []             []   \n",
       "3                                               []             []   \n",
       "4                                               []             []   \n",
       "...                                            ...            ...   \n",
       "3378059                                         []             []   \n",
       "3378060                                         []             []   \n",
       "3378062  ['AdsBot-Google', 'AdsBot-Google-Mobile']             []   \n",
       "3378063                                         []             []   \n",
       "3378064                                         []             []   \n",
       "\n",
       "        disfav_count_diff  \n",
       "0                      []  \n",
       "1                      []  \n",
       "2                      []  \n",
       "3                      []  \n",
       "4                      []  \n",
       "...                   ...  \n",
       "3378059                []  \n",
       "3378060                []  \n",
       "3378062          [-3, -3]  \n",
       "3378063                []  \n",
       "3378064                []  \n",
       "\n",
       "[2022878 rows x 6 columns]"
      ]
     },
     "execution_count": 84,
     "metadata": {},
     "output_type": "execute_result"
    }
   ],
   "source": [
    "df"
   ]
  },
  {
   "cell_type": "code",
   "execution_count": 85,
   "id": "4ab6758f",
   "metadata": {},
   "outputs": [],
   "source": [
    "df.to_csv('/home/osama/CC-MAIN-2021-43-robotstxt/output/robotstxt.csv', index=False)"
   ]
  },
  {
   "cell_type": "code",
   "execution_count": 86,
   "id": "a22c93a0",
   "metadata": {},
   "outputs": [
    {
     "data": {
      "text/plain": [
       "298"
      ]
     },
     "execution_count": 86,
     "metadata": {},
     "output_type": "execute_result"
    }
   ],
   "source": [
    "sum(df['robotstxt_url'].value_counts() > 1)"
   ]
  },
  {
   "cell_type": "code",
   "execution_count": 93,
   "id": "c36db296",
   "metadata": {},
   "outputs": [
    {
     "data": {
      "text/plain": [
       "https://www.projecthoneypot.org/robots.txt    4\n",
       "https://saleofcar.com/robots.txt              4\n",
       "https://reachmd.com/robots.txt                3\n",
       "https://forum.fxopen.com/robots.txt           2\n",
       "https://varu.hu/robots.txt                    2\n",
       "https://be.sportsdirect.com/robots.txt        2\n",
       "https://barathier.it/robots.txt               2\n",
       "https://www.rirun.co/robots.txt               2\n",
       "https://www.memagazine.it/robots.txt          2\n",
       "https://www.gopostyle.com/robots.txt          2\n",
       "Name: robotstxt_url, dtype: int64"
      ]
     },
     "execution_count": 93,
     "metadata": {},
     "output_type": "execute_result"
    }
   ],
   "source": [
    "df['robotstxt_url'].value_counts()[:10]"
   ]
  },
  {
   "cell_type": "code",
   "execution_count": 94,
   "id": "f8addc9d",
   "metadata": {},
   "outputs": [
    {
     "data": {
      "text/html": [
       "<div>\n",
       "<style scoped>\n",
       "    .dataframe tbody tr th:only-of-type {\n",
       "        vertical-align: middle;\n",
       "    }\n",
       "\n",
       "    .dataframe tbody tr th {\n",
       "        vertical-align: top;\n",
       "    }\n",
       "\n",
       "    .dataframe thead th {\n",
       "        text-align: right;\n",
       "    }\n",
       "</style>\n",
       "<table border=\"1\" class=\"dataframe\">\n",
       "  <thead>\n",
       "    <tr style=\"text-align: right;\">\n",
       "      <th></th>\n",
       "      <th>robotstxt_url</th>\n",
       "      <th>no_bias</th>\n",
       "      <th>favored</th>\n",
       "      <th>disfavored</th>\n",
       "      <th>fav_count_diff</th>\n",
       "      <th>disfav_count_diff</th>\n",
       "    </tr>\n",
       "  </thead>\n",
       "  <tbody>\n",
       "    <tr>\n",
       "      <th>587661</th>\n",
       "      <td>https://www.rirun.co/robots.txt</td>\n",
       "      <td>['AhrefsBot', 'AhrefsSiteAudit']</td>\n",
       "      <td>['MJ12bot', 'Pinterest', 'adsbot-google']</td>\n",
       "      <td>['Nutch']</td>\n",
       "      <td>[9, 7, 4]</td>\n",
       "      <td>[-1]</td>\n",
       "    </tr>\n",
       "    <tr>\n",
       "      <th>2863266</th>\n",
       "      <td>https://www.rirun.co/robots.txt</td>\n",
       "      <td>['AhrefsBot', 'AhrefsSiteAudit']</td>\n",
       "      <td>['MJ12bot', 'Pinterest', 'adsbot-google']</td>\n",
       "      <td>['Nutch']</td>\n",
       "      <td>[10, 10, 5]</td>\n",
       "      <td>[-1]</td>\n",
       "    </tr>\n",
       "  </tbody>\n",
       "</table>\n",
       "</div>"
      ],
      "text/plain": [
       "                           robotstxt_url                           no_bias  \\\n",
       "587661   https://www.rirun.co/robots.txt  ['AhrefsBot', 'AhrefsSiteAudit']   \n",
       "2863266  https://www.rirun.co/robots.txt  ['AhrefsBot', 'AhrefsSiteAudit']   \n",
       "\n",
       "                                           favored disfavored fav_count_diff  \\\n",
       "587661   ['MJ12bot', 'Pinterest', 'adsbot-google']  ['Nutch']      [9, 7, 4]   \n",
       "2863266  ['MJ12bot', 'Pinterest', 'adsbot-google']  ['Nutch']    [10, 10, 5]   \n",
       "\n",
       "        disfav_count_diff  \n",
       "587661               [-1]  \n",
       "2863266              [-1]  "
      ]
     },
     "execution_count": 94,
     "metadata": {},
     "output_type": "execute_result"
    }
   ],
   "source": [
    "# https://www.projecthoneypot.org/robots.txt : changes user-agent every new access to robots.txt \n",
    "# https://saleofcar.com/robots.txt : gives MediaPartners-Google bot more access in time\n",
    "# https://varu.hu/robots.txt : moved MJ12bot from no_bias to disfavored\n",
    "\n",
    "# Those duplicated robots.txt changed over the different 4 crawls, for differnt reason, to be analysed further after\n",
    "# Time series Analyse for bots is possible to see how they tend to differ over differnt crawls (and so different time) to see how their access change and their categories too.\n",
    "\n",
    "df[df['robotstxt_url'] == 'https://www.rirun.co/robots.txt']"
   ]
  },
  {
   "cell_type": "code",
   "execution_count": 95,
   "id": "8913316e",
   "metadata": {},
   "outputs": [],
   "source": [
    "# drop duplicates with same robotstxt_url but different values for other columns, as those to be analyzed seperately\n",
    "\n",
    "df.drop_duplicates('robotstxt_url', keep='last', inplace=True)"
   ]
  },
  {
   "cell_type": "code",
   "execution_count": 96,
   "id": "c0a540f1",
   "metadata": {},
   "outputs": [
    {
     "data": {
      "text/html": [
       "<div>\n",
       "<style scoped>\n",
       "    .dataframe tbody tr th:only-of-type {\n",
       "        vertical-align: middle;\n",
       "    }\n",
       "\n",
       "    .dataframe tbody tr th {\n",
       "        vertical-align: top;\n",
       "    }\n",
       "\n",
       "    .dataframe thead th {\n",
       "        text-align: right;\n",
       "    }\n",
       "</style>\n",
       "<table border=\"1\" class=\"dataframe\">\n",
       "  <thead>\n",
       "    <tr style=\"text-align: right;\">\n",
       "      <th></th>\n",
       "      <th>robotstxt_url</th>\n",
       "      <th>no_bias</th>\n",
       "      <th>favored</th>\n",
       "      <th>disfavored</th>\n",
       "      <th>fav_count_diff</th>\n",
       "      <th>disfav_count_diff</th>\n",
       "    </tr>\n",
       "  </thead>\n",
       "  <tbody>\n",
       "    <tr>\n",
       "      <th>0</th>\n",
       "      <td>http://1lt.upc04m9.cn/robots.txt</td>\n",
       "      <td>[]</td>\n",
       "      <td>[]</td>\n",
       "      <td>[]</td>\n",
       "      <td>[]</td>\n",
       "      <td>[]</td>\n",
       "    </tr>\n",
       "    <tr>\n",
       "      <th>1</th>\n",
       "      <td>http://25film.net/robots.txt</td>\n",
       "      <td>[]</td>\n",
       "      <td>[]</td>\n",
       "      <td>[]</td>\n",
       "      <td>[]</td>\n",
       "      <td>[]</td>\n",
       "    </tr>\n",
       "    <tr>\n",
       "      <th>2</th>\n",
       "      <td>http://344.oplkuqz.cn/robots.txt</td>\n",
       "      <td>[]</td>\n",
       "      <td>[]</td>\n",
       "      <td>[]</td>\n",
       "      <td>[]</td>\n",
       "      <td>[]</td>\n",
       "    </tr>\n",
       "    <tr>\n",
       "      <th>3</th>\n",
       "      <td>http://a1groundtransportation.com/robots.txt</td>\n",
       "      <td>[]</td>\n",
       "      <td>[]</td>\n",
       "      <td>[]</td>\n",
       "      <td>[]</td>\n",
       "      <td>[]</td>\n",
       "    </tr>\n",
       "    <tr>\n",
       "      <th>4</th>\n",
       "      <td>http://abdipersadafm.co.id/robots.txt</td>\n",
       "      <td>[]</td>\n",
       "      <td>[]</td>\n",
       "      <td>[]</td>\n",
       "      <td>[]</td>\n",
       "      <td>[]</td>\n",
       "    </tr>\n",
       "    <tr>\n",
       "      <th>...</th>\n",
       "      <td>...</td>\n",
       "      <td>...</td>\n",
       "      <td>...</td>\n",
       "      <td>...</td>\n",
       "      <td>...</td>\n",
       "      <td>...</td>\n",
       "    </tr>\n",
       "    <tr>\n",
       "      <th>3378059</th>\n",
       "      <td>https://zao-era.ru/robots.txt</td>\n",
       "      <td>[]</td>\n",
       "      <td>[]</td>\n",
       "      <td>[]</td>\n",
       "      <td>[]</td>\n",
       "      <td>[]</td>\n",
       "    </tr>\n",
       "    <tr>\n",
       "      <th>3378060</th>\n",
       "      <td>https://zappiagioielli.com/robots.txt</td>\n",
       "      <td>[]</td>\n",
       "      <td>[]</td>\n",
       "      <td>[]</td>\n",
       "      <td>[]</td>\n",
       "      <td>[]</td>\n",
       "    </tr>\n",
       "    <tr>\n",
       "      <th>3378062</th>\n",
       "      <td>https://zh.move-glamping.com/robots.txt</td>\n",
       "      <td>[]</td>\n",
       "      <td>[]</td>\n",
       "      <td>['AdsBot-Google', 'AdsBot-Google-Mobile']</td>\n",
       "      <td>[]</td>\n",
       "      <td>[-3, -3]</td>\n",
       "    </tr>\n",
       "    <tr>\n",
       "      <th>3378063</th>\n",
       "      <td>https://zitamama.wordpress.com/robots.txt</td>\n",
       "      <td>[]</td>\n",
       "      <td>[]</td>\n",
       "      <td>[]</td>\n",
       "      <td>[]</td>\n",
       "      <td>[]</td>\n",
       "    </tr>\n",
       "    <tr>\n",
       "      <th>3378064</th>\n",
       "      <td>https://zlatanov.ro/robots.txt</td>\n",
       "      <td>[]</td>\n",
       "      <td>[]</td>\n",
       "      <td>[]</td>\n",
       "      <td>[]</td>\n",
       "      <td>[]</td>\n",
       "    </tr>\n",
       "  </tbody>\n",
       "</table>\n",
       "<p>2022575 rows × 6 columns</p>\n",
       "</div>"
      ],
      "text/plain": [
       "                                        robotstxt_url no_bias favored  \\\n",
       "0                    http://1lt.upc04m9.cn/robots.txt      []      []   \n",
       "1                        http://25film.net/robots.txt      []      []   \n",
       "2                    http://344.oplkuqz.cn/robots.txt      []      []   \n",
       "3        http://a1groundtransportation.com/robots.txt      []      []   \n",
       "4               http://abdipersadafm.co.id/robots.txt      []      []   \n",
       "...                                               ...     ...     ...   \n",
       "3378059                 https://zao-era.ru/robots.txt      []      []   \n",
       "3378060         https://zappiagioielli.com/robots.txt      []      []   \n",
       "3378062       https://zh.move-glamping.com/robots.txt      []      []   \n",
       "3378063     https://zitamama.wordpress.com/robots.txt      []      []   \n",
       "3378064                https://zlatanov.ro/robots.txt      []      []   \n",
       "\n",
       "                                        disfavored fav_count_diff  \\\n",
       "0                                               []             []   \n",
       "1                                               []             []   \n",
       "2                                               []             []   \n",
       "3                                               []             []   \n",
       "4                                               []             []   \n",
       "...                                            ...            ...   \n",
       "3378059                                         []             []   \n",
       "3378060                                         []             []   \n",
       "3378062  ['AdsBot-Google', 'AdsBot-Google-Mobile']             []   \n",
       "3378063                                         []             []   \n",
       "3378064                                         []             []   \n",
       "\n",
       "        disfav_count_diff  \n",
       "0                      []  \n",
       "1                      []  \n",
       "2                      []  \n",
       "3                      []  \n",
       "4                      []  \n",
       "...                   ...  \n",
       "3378059                []  \n",
       "3378060                []  \n",
       "3378062          [-3, -3]  \n",
       "3378063                []  \n",
       "3378064                []  \n",
       "\n",
       "[2022575 rows x 6 columns]"
      ]
     },
     "execution_count": 96,
     "metadata": {},
     "output_type": "execute_result"
    }
   ],
   "source": [
    "df"
   ]
  },
  {
   "cell_type": "code",
   "execution_count": 97,
   "id": "4d527de2",
   "metadata": {},
   "outputs": [],
   "source": [
    "df.to_csv('/home/osama/CC-MAIN-2021-43-robotstxt/output/robotstxt_with_no_different_crawls_duplicates.csv', index=False)"
   ]
  },
  {
   "cell_type": "code",
   "execution_count": 5,
   "id": "099d3cfb",
   "metadata": {},
   "outputs": [],
   "source": [
    "df = pd.read_csv('/home/osama/CC-MAIN-2021-43-robotstxt/output/robotstxt_with_no_different_crawls_duplicates.csv')"
   ]
  },
  {
   "cell_type": "code",
   "execution_count": 7,
   "id": "edec90fc",
   "metadata": {},
   "outputs": [],
   "source": [
    "def to_1D(series):\n",
    " return pd.Series([x for _list in series for x in _list])"
   ]
  },
  {
   "cell_type": "code",
   "execution_count": 444,
   "id": "f74c3263",
   "metadata": {},
   "outputs": [],
   "source": [
    "def plot_most_frequently_appeared_bots(top_10_appeared_bots_name, y_disfavored, y_no_bias, y_favored):\n",
    "    fig, ax = plt.subplots(figsize=(20, 10))\n",
    "\n",
    "    ax.bar(top_10_appeared_bots_name, y_disfavored, color='r', label='disfavored')\n",
    "    ax.bar(top_10_appeared_bots_name, y_no_bias, bottom=y_disfavored, color='g', label='no_bias')\n",
    "    ax.bar(top_10_appeared_bots_name, y_favored, bottom=y_disfavored + y_no_bias, color='b', label='favored')\n",
    "\n",
    "    ax.set_title('Most frequently used robot names in robots.txt files. The height of the bar represents the number of times a robot appeared in the dataset')\n",
    "    ax.set_xlabel('Bot name')\n",
    "    ax.set_ylabel('Number of times appeared')\n",
    "\n",
    "    ax.legend()\n",
    "\n",
    "    # helper method to auto-label bars\n",
    "    ax.bar_label(ax.containers[2])"
   ]
  },
  {
   "cell_type": "code",
   "execution_count": 445,
   "id": "9454182c",
   "metadata": {},
   "outputs": [],
   "source": [
    "def plot_number_of_time_bot_appears_distribution(nb_of_times_appeared, total_number_of_user_agents):\n",
    "    percentage_of_the_count_by_number_of_appearance = nb_of_times_appeared.value_counts().map(lambda v: v/total_number_of_user_agents*100)\n",
    "    fig, ax = plt.subplots(figsize=(8,6))\n",
    "    sns.scatterplot(x=percentage_of_the_count_by_number_of_appearance.index, y=percentage_of_the_count_by_number_of_appearance.values)\n",
    "\n",
    "    ax.set_xlabel('Number of times a robot appears')\n",
    "    ax.set_ylabel('Percentage')"
   ]
  },
  {
   "cell_type": "code",
   "execution_count": 447,
   "id": "169f05a2",
   "metadata": {},
   "outputs": [],
   "source": [
    "def get_bots_favorability(favored_1d_series, disfavored_1d_series, N):\n",
    "    # favorability of a robot is = (#favored - #disfavored)/N  ; where N is the dataset size\n",
    "    favorability_of_robots = (favored_1d_series.value_counts().sub(disfavored_1d_series.value_counts(), fill_value=0)/N).sort_values(ascending=False)\n",
    "    return favorability_of_robots"
   ]
  },
  {
   "cell_type": "code",
   "execution_count": 449,
   "id": "c68f145e",
   "metadata": {},
   "outputs": [],
   "source": [
    "def get_metrics(df):\n",
    "    # Get 1d series from the 3 columns\n",
    "    favored_1d_series = to_1D(df['favored'].apply(eval))\n",
    "    disfavored_1d_series = to_1D(df['disfavored'].apply(eval))\n",
    "    no_bias_1d_series = to_1D(df['no_bias'].apply(eval))\n",
    "    \n",
    "    # Get series with number of time a bot appeared overall in the dataset\n",
    "    nb_of_times_appeared = favored_1d_series.value_counts().add(disfavored_1d_series.value_counts(), fill_value=0).add(no_bias_1d_series.value_counts(), fill_value=0).sort_values(ascending=False)\n",
    "    \n",
    "    # Get the name of top 10 appeared bots\n",
    "    top_10_appeared_bots_name = nb_of_times_appeared[:10].index\n",
    "    \n",
    "    # Get number of times the top 10 robots have been disfavored, no_bias or favored\n",
    "    y_disfavored = disfavored_1d_series.value_counts()[top_10_appeared_bots_name].values\n",
    "    y_no_bias = no_bias_1d_series.value_counts()[top_10_appeared_bots_name].values\n",
    "    y_favored = favored_1d_series.value_counts()[top_10_appeared_bots_name].values\n",
    "    \n",
    "    # Total number of user_agents in the dataset\n",
    "    total_number_of_user_agents = nb_of_times_appeared.size\n",
    "    \n",
    "    # Let N be the total number of robots.txt files in the dataset. Used to calculate favorability\n",
    "    N = df.shape[0]\n",
    "    \n",
    "    return disfavored_1d_series, no_bias_1d_series, favored_1d_series, nb_of_times_appeared, top_10_appeared_bots_name, y_disfavored, y_no_bias, y_favored, total_number_of_user_agents, N"
   ]
  },
  {
   "cell_type": "code",
   "execution_count": 466,
   "id": "e59b882f",
   "metadata": {},
   "outputs": [],
   "source": [
    "def draw_favorability_table(favorability_of_robots, favored_1d_series, disfavored_1d_series, f=1):\n",
    "    table = PrettyTable()\n",
    "\n",
    "    table.field_names = ['Bot name', '#favored', '#disfavored', '#favorability', 'σ: categorical standard deviation']\n",
    "    favorability_of_robots_list = favorability_of_robots[:10] if f==1 else favorability_of_robots[-1:-11:-1]\n",
    "    for bot,score in favorability_of_robots_list.items():\n",
    "        N_favored = favored_1d_series.value_counts().get(bot, 0)\n",
    "        N_disfavored = disfavored_1d_series.value_counts().get(bot, 0)\n",
    "        sigma = np.sqrt(np.abs(score) * (1 - np.abs(score))/N)\n",
    "        table.add_row([bot, N_favored, N_disfavored, round(score, 6), round(sigma, 6)])\n",
    "\n",
    "    print(table)"
   ]
  },
  {
   "cell_type": "code",
   "execution_count": 8,
   "id": "3f34141a",
   "metadata": {},
   "outputs": [],
   "source": [
    "favored_1d_series = to_1D(df['favored'].apply(eval))\n",
    "disfavored_1d_series = to_1D(df['disfavored'].apply(eval))\n",
    "no_bias_1d_series = to_1D(df['no_bias'].apply(eval)) "
   ]
  },
  {
   "cell_type": "code",
   "execution_count": 9,
   "id": "db918430",
   "metadata": {},
   "outputs": [],
   "source": [
    "nb_of_times_appeared = favored_1d_series.value_counts().add(disfavored_1d_series.value_counts(), fill_value=0).add(no_bias_1d_series.value_counts(), fill_value=0).sort_values(ascending=False)\n",
    "top_10_appeared_bots_name = nb_of_times_appeared[:10].index"
   ]
  },
  {
   "cell_type": "code",
   "execution_count": 10,
   "id": "e09c3cca",
   "metadata": {},
   "outputs": [],
   "source": [
    "y_disfavored = disfavored_1d_series.value_counts()[top_10_appeared_bots_name].values\n",
    "y_no_bias = no_bias_1d_series.value_counts()[top_10_appeared_bots_name].values\n",
    "y_favored = favored_1d_series.value_counts()[top_10_appeared_bots_name].values"
   ]
  },
  {
   "cell_type": "code",
   "execution_count": 11,
   "id": "e9fed0a0",
   "metadata": {},
   "outputs": [
    {
     "name": "stdout",
     "output_type": "stream",
     "text": [
      "23613\n"
     ]
    }
   ],
   "source": [
    "# Total number of user_agents\n",
    "total_number_of_user_agents = nb_of_times_appeared.size\n",
    "print(total_number_of_user_agents)"
   ]
  },
  {
   "cell_type": "code",
   "execution_count": 209,
   "id": "0a305b7e",
   "metadata": {},
   "outputs": [
    {
     "data": {
      "text/plain": [
       "[Text(0, 0, '106347'),\n",
       " Text(0, 0, '98028'),\n",
       " Text(0, 0, '85706'),\n",
       " Text(0, 0, '79679'),\n",
       " Text(0, 0, '78549'),\n",
       " Text(0, 0, '74407'),\n",
       " Text(0, 0, '59948'),\n",
       " Text(0, 0, '52021'),\n",
       " Text(0, 0, '48092'),\n",
       " Text(0, 0, '47237')]"
      ]
     },
     "execution_count": 209,
     "metadata": {},
     "output_type": "execute_result"
    },
    {
     "data": {
      "image/png": "[encoded data removed]",
      "text/plain": [
       "<Figure size 1440x720 with 1 Axes>"
      ]
     },
     "metadata": {
      "needs_background": "light"
     },
     "output_type": "display_data"
    }
   ],
   "source": [
    "fig, ax = plt.subplots(figsize=(20, 10))\n",
    "\n",
    "ax.bar(top_10_appeared_bots_name, y_disfavored, color='r', label='disfavored')\n",
    "ax.bar(top_10_appeared_bots_name, y_no_bias, bottom=y_disfavored, color='g', label='no_bias')\n",
    "ax.bar(top_10_appeared_bots_name, y_favored, bottom=y_disfavored + y_no_bias, color='b', label='favored')\n",
    "\n",
    "ax.set_title('Most frequently used robot names in robots.txt files. The height of the bar represents the number of times a robot appeared in the dataset')\n",
    "ax.set_xlabel('Bot name')\n",
    "ax.set_ylabel('Number of times appeared')\n",
    "\n",
    "ax.legend()\n",
    "\n",
    "# helper method to auto-label bars\n",
    "ax.bar_label(ax.containers[2])"
   ]
  },
  {
   "cell_type": "code",
   "execution_count": 12,
   "id": "e58c3bd1",
   "metadata": {},
   "outputs": [],
   "source": [
    "percentage_of_the_count_by_number_of_appearance = nb_of_times_appeared.value_counts().map(lambda v: v/total_number_of_user_agents*100)"
   ]
  },
  {
   "cell_type": "code",
   "execution_count": 359,
   "id": "86b76a19",
   "metadata": {},
   "outputs": [
    {
     "data": {
      "text/plain": [
       "Text(0, 0.5, 'Percentage')"
      ]
     },
     "execution_count": 359,
     "metadata": {},
     "output_type": "execute_result"
    },
    {
     "data": {
      "image/png": "[encoded data removed]",
      "text/plain": [
       "<Figure size 576x432 with 1 Axes>"
      ]
     },
     "metadata": {
      "needs_background": "light"
     },
     "output_type": "display_data"
    }
   ],
   "source": [
    "fig, ax = plt.subplots(figsize=(8,6))\n",
    "sns.scatterplot(x=percentage_of_the_count_by_number_of_appearance.index, y=percentage_of_the_count_by_number_of_appearance.values)\n",
    "\n",
    "ax.set_xlabel('Number of times a robot appears')\n",
    "ax.set_ylabel('Percentage')"
   ]
  },
  {
   "cell_type": "code",
   "execution_count": 20,
   "id": "8d40217d",
   "metadata": {},
   "outputs": [
    {
     "data": {
      "image/png": "[encoded data removed]",
      "text/plain": [
       "<Figure size 432x288 with 1 Axes>"
      ]
     },
     "metadata": {
      "needs_background": "light"
     },
     "output_type": "display_data"
    }
   ],
   "source": [
    "# Advanced customization of the boxplot\n",
    "plt.ylim(0, 100)\n",
    "plt.xlim(0, 100)\n",
    "\n",
    "sns.boxplot(x=nb_of_times_appeared.values)\n",
    "plt.show()"
   ]
  },
  {
   "cell_type": "code",
   "execution_count": 399,
   "id": "4e8a5691",
   "metadata": {},
   "outputs": [
    {
     "data": {
      "text/plain": [
       "count     23613.000000\n",
       "mean        180.467624\n",
       "std        1899.308540\n",
       "min           1.000000\n",
       "25%           1.000000\n",
       "50%           2.000000\n",
       "75%          13.000000\n",
       "max      106347.000000\n",
       "dtype: float64"
      ]
     },
     "execution_count": 399,
     "metadata": {},
     "output_type": "execute_result"
    }
   ],
   "source": [
    "nb_of_times_appeared.describe()"
   ]
  },
  {
   "cell_type": "code",
   "execution_count": 316,
   "id": "e39468c2",
   "metadata": {},
   "outputs": [
    {
     "name": "stdout",
     "output_type": "stream",
     "text": [
      "2022575\n"
     ]
    }
   ],
   "source": [
    "# Let N be the total number of robots.txt files in the dataset.\n",
    "N = df.shape[0]\n",
    "print(N)"
   ]
  },
  {
   "cell_type": "code",
   "execution_count": 317,
   "id": "b82ba927",
   "metadata": {},
   "outputs": [],
   "source": [
    "# favorability of a robot is = (#favored - #disfavored)/N\n",
    "favorability_of_robots = (favored_1d_series.value_counts().sub(disfavored_1d_series.value_counts(), fill_value=0)/N).sort_values(ascending=False)"
   ]
  },
  {
   "cell_type": "code",
   "execution_count": 314,
   "id": "714529b4",
   "metadata": {},
   "outputs": [
    {
     "name": "stdout",
     "output_type": "stream",
     "text": [
      "+----------------------+----------+-------------+---------------+-----------------------------------+\n",
      "|       Bot name       | #favored | #disfavored | #favorability | σ: categorical standard deviation |\n",
      "+----------------------+----------+-------------+---------------+-----------------------------------+\n",
      "| Mediapartners-Google |  70470   |     1169    |    0.034264   |              0.000128             |\n",
      "|      Pinterest       |  43759   |      71     |     0.0216    |              0.000102             |\n",
      "|    adsbot-google     |  39463   |      9      |    0.019507   |              9.7e-05              |\n",
      "|      Googlebot       |  51560   |    13022    |    0.019054   |              9.6e-05              |\n",
      "|       bingbot        |  27409   |     4909    |    0.011124   |              7.4e-05              |\n",
      "|   Googlebot-Image    |  17341   |     2463    |    0.007356   |               6e-05               |\n",
      "|      Twitterbot      |  14729   |     532     |    0.007019   |              5.9e-05              |\n",
      "|     Yahoo! Slurp     |  12523   |     374     |    0.006007   |              5.4e-05              |\n",
      "|        msnbot        |  14938   |     2838    |    0.005982   |              5.4e-05              |\n",
      "|        Slurp         |  19369   |    10031    |    0.004617   |              4.8e-05              |\n",
      "+----------------------+----------+-------------+---------------+-----------------------------------+\n"
     ]
    }
   ],
   "source": [
    "table = PrettyTable()\n",
    "\n",
    "table.field_names = ['Bot name', '#favored', '#disfavored', '#favorability', 'σ: categorical standard deviation']\n",
    "\n",
    "for bot,score in favorability_of_robots[:10].items():\n",
    "    N_favored = favored_1d_series.value_counts()[bot]\n",
    "    N_disfavored = disfavored_1d_series.value_counts()[bot]\n",
    "    sigma = np.sqrt(np.abs(score) * (1 - np.abs(score))/N)\n",
    "    table.add_row([bot, N_favored, N_disfavored, round(score, 6), round(sigma, 6)])\n",
    "    \n",
    "print(table)"
   ]
  },
  {
   "cell_type": "code",
   "execution_count": 315,
   "id": "e8b5af62",
   "metadata": {},
   "outputs": [
    {
     "name": "stdout",
     "output_type": "stream",
     "text": [
      "+----------------------+----------+-------------+---------------+-----------------------------------+\n",
      "|       Bot name       | #favored | #disfavored | #favorability | σ: categorical standard deviation |\n",
      "+----------------------+----------+-------------+---------------+-----------------------------------+\n",
      "| AdsBot-Google-Mobile |   2089   |    77385    |   -0.037228   |              0.000133             |\n",
      "|    AdsBot-Google     |   6842   |    77671    |   -0.035019   |              0.000129             |\n",
      "|        Nutch         |   954    |    46170    |   -0.022356   |              0.000104             |\n",
      "|      AhrefsBot       |   5342   |    42518    |   -0.018381   |              9.4e-05              |\n",
      "|      SemrushBot      |   5623   |    36679    |   -0.015355   |              8.6e-05              |\n",
      "|       NerdyBot       |    8     |    21368    |   -0.010561   |              7.2e-05              |\n",
      "|       BLEXBot        |   3676   |    24061    |   -0.010079   |               7e-05               |\n",
      "|        dotbot        |   1356   |    18272    |   -0.008364   |              6.4e-05              |\n",
      "|      WebCopier       |   210    |    13438    |    -0.00654   |              5.7e-05              |\n",
      "|        psbot         |   1396   |    14602    |   -0.006529   |              5.7e-05              |\n",
      "+----------------------+----------+-------------+---------------+-----------------------------------+\n"
     ]
    }
   ],
   "source": [
    "table = PrettyTable()\n",
    "\n",
    "table.field_names = ['Bot name', '#favored', '#disfavored', '#favorability', 'σ: categorical standard deviation']\n",
    "\n",
    "for bot,score in favorability_of_robots[-1:-11:-1].items():\n",
    "    N_favored = favored_1d_series.value_counts()[bot]\n",
    "    N_disfavored = disfavored_1d_series.value_counts()[bot]\n",
    "    sigma = np.sqrt(np.abs(score) * (1 - np.abs(score))/N)\n",
    "    table.add_row([bot, N_favored, N_disfavored, round(score, 6), round(sigma, 6)])\n",
    "    \n",
    "print(table)"
   ]
  },
  {
   "cell_type": "code",
   "execution_count": 411,
   "id": "511c7a59",
   "metadata": {},
   "outputs": [],
   "source": [
    "df['tld'] = df.apply(lambda row: urlparse(row['robotstxt_url']).netloc.split('.')[-1], axis=1)"
   ]
  },
  {
   "cell_type": "code",
   "execution_count": 416,
   "id": "83b27a7e",
   "metadata": {},
   "outputs": [],
   "source": [
    "tld_stats_series = df.groupby('tld').size().sort_values(ascending=False)"
   ]
  },
  {
   "cell_type": "code",
   "execution_count": 439,
   "id": "84810339",
   "metadata": {},
   "outputs": [
    {
     "data": {
      "image/png": "[encoded data removed]",
      "text/plain": [
       "<Figure size 864x864 with 1 Axes>"
      ]
     },
     "metadata": {},
     "output_type": "display_data"
    }
   ],
   "source": [
    "# Pie chart, where the slices will be ordered and plotted counter-clockwise:\n",
    "labels = tld_stats_series.index[:10]\n",
    "sizes = tld_stats_series.values[:10]\n",
    "explode = (0, 0.2, 0, 0, 0, 0, 0, 0, 0, 0)  # only \"explode\" the 2nd slice (i.e. 'Hogs')\n",
    "\n",
    "fig1, ax1 = plt.subplots(figsize=(12, 12))\n",
    "\n",
    "ax1.pie(sizes, explode=explode, labels=labels, autopct='%1.1f%%',\n",
    "        shadow=True, startangle=90)\n",
    "ax1.axis('equal')  # Equal aspect ratio ensures that pie is drawn as a circle.\n",
    "\n",
    "ax1.set_title(f'TLD distribution in the dataset of {N} unique website')\n",
    "\n",
    "plt.show()"
   ]
  },
  {
   "cell_type": "code",
   "execution_count": 436,
   "id": "8836d48a",
   "metadata": {},
   "outputs": [
    {
     "data": {
      "text/plain": [
       "tld\n",
       "bg:2096     1\n",
       "220         1\n",
       "bg:8474     1\n",
       "kr:447      1\n",
       "de:9050     1\n",
       "de:9000     1\n",
       "kr:4447     1\n",
       "kr:44466    1\n",
       "de:8080     1\n",
       "de:8006     1\n",
       "care:443    1\n",
       "dtype: int64"
      ]
     },
     "execution_count": 436,
     "metadata": {},
     "output_type": "execute_result"
    }
   ],
   "source": [
    "tld_stats_series[-11:]"
   ]
  },
  {
   "cell_type": "code",
   "execution_count": 481,
   "id": "652412ad",
   "metadata": {},
   "outputs": [],
   "source": [
    "df_cn = df[df['tld'] == 'cn']\n",
    "df_ru = df[df['tld'] == 'ru']\n",
    "df_de = df[df['tld'] == 'de']"
   ]
  },
  {
   "cell_type": "markdown",
   "id": "98c2701e",
   "metadata": {},
   "source": [
    "## Analysing Chinese domains"
   ]
  },
  {
   "cell_type": "code",
   "execution_count": 453,
   "id": "c9bc2f5f",
   "metadata": {},
   "outputs": [],
   "source": [
    "disfavored_1d_series, no_bias_1d_series, favored_1d_series, nb_of_times_appeared, top_10_appeared_bots_name, y_disfavored, y_no_bias, y_favored, total_number_of_user_agents, N = get_metrics(df_cn)"
   ]
  },
  {
   "cell_type": "code",
   "execution_count": 454,
   "id": "749eac3e",
   "metadata": {},
   "outputs": [
    {
     "data": {
      "image/png": "[encoded data removed]",
      "text/plain": [
       "<Figure size 1440x720 with 1 Axes>"
      ]
     },
     "metadata": {
      "needs_background": "light"
     },
     "output_type": "display_data"
    }
   ],
   "source": [
    "plot_most_frequently_appeared_bots(top_10_appeared_bots_name, y_disfavored, y_no_bias, y_favored)"
   ]
  },
  {
   "cell_type": "code",
   "execution_count": 458,
   "id": "91b64daa",
   "metadata": {},
   "outputs": [
    {
     "data": {
      "image/png": "[encoded data removed]",
      "text/plain": [
       "<Figure size 576x432 with 1 Axes>"
      ]
     },
     "metadata": {
      "needs_background": "light"
     },
     "output_type": "display_data"
    }
   ],
   "source": [
    "plot_number_of_time_bot_appears_distribution(nb_of_times_appeared, total_number_of_user_agents)"
   ]
  },
  {
   "cell_type": "code",
   "execution_count": 459,
   "id": "2c65656a",
   "metadata": {},
   "outputs": [],
   "source": [
    "favorability_of_robots = get_bots_favorability(favored_1d_series, disfavored_1d_series, N)"
   ]
  },
  {
   "cell_type": "code",
   "execution_count": 462,
   "id": "944c627e",
   "metadata": {},
   "outputs": [
    {
     "data": {
      "text/plain": [
       "Baiduspider           0.004668\n",
       "360Spider             0.001984\n",
       "Sogou blog            0.001605\n",
       "Baiduspider-image     0.001167\n",
       "Twitterbot            0.000992\n",
       "HaosouSpider          0.000875\n",
       "Baiduspider-news      0.000846\n",
       "Googlebot-Image       0.000817\n",
       "Baiduspider-mobile    0.000817\n",
       "Googlebot-Mobile      0.000788\n",
       "dtype: float64"
      ]
     },
     "execution_count": 462,
     "metadata": {},
     "output_type": "execute_result"
    }
   ],
   "source": [
    "favorability_of_robots[:10]"
   ]
  },
  {
   "cell_type": "code",
   "execution_count": 467,
   "id": "a1b4bbb6",
   "metadata": {},
   "outputs": [
    {
     "name": "stdout",
     "output_type": "stream",
     "text": [
      "+--------------------+----------+-------------+---------------+-----------------------------------+\n",
      "|      Bot name      | #favored | #disfavored | #favorability | σ: categorical standard deviation |\n",
      "+--------------------+----------+-------------+---------------+-----------------------------------+\n",
      "|    Baiduspider     |   185    |      25     |    0.004668   |              0.000368             |\n",
      "|     360Spider      |    76    |      8      |    0.001984   |              0.00024              |\n",
      "|     Sogou blog     |    59    |      4      |    0.001605   |              0.000216             |\n",
      "| Baiduspider-image  |    46    |      6      |    0.001167   |              0.000184             |\n",
      "|     Twitterbot     |    35    |      1      |    0.000992   |              0.00017              |\n",
      "|    HaosouSpider    |    30    |      0      |    0.000875   |              0.00016              |\n",
      "|  Baiduspider-news  |    30    |      1      |    0.000846   |              0.000157             |\n",
      "|  Googlebot-Image   |    31    |      3      |    0.000817   |              0.000154             |\n",
      "| Baiduspider-mobile |    28    |      0      |    0.000817   |              0.000154             |\n",
      "|  Googlebot-Mobile  |    28    |      1      |    0.000788   |              0.000152             |\n",
      "+--------------------+----------+-------------+---------------+-----------------------------------+\n"
     ]
    }
   ],
   "source": [
    "draw_favorability_table(favorability_of_robots, favored_1d_series, disfavored_1d_series, f=1)"
   ]
  },
  {
   "cell_type": "code",
   "execution_count": 468,
   "id": "7e5db62a",
   "metadata": {},
   "outputs": [
    {
     "name": "stdout",
     "output_type": "stream",
     "text": [
      "+------------+----------+-------------+---------------+-----------------------------------+\n",
      "|  Bot name  | #favored | #disfavored | #favorability | σ: categorical standard deviation |\n",
      "+------------+----------+-------------+---------------+-----------------------------------+\n",
      "| Googlebot  |   122    |     910     |   -0.022991   |              0.00081              |\n",
      "|  MJ12bot   |    8     |     784     |    -0.02264   |              0.000803             |\n",
      "| AhrefsBot  |    5     |     744     |   -0.021561   |              0.000785             |\n",
      "|   Slurp    |    41    |     719     |   -0.019781   |              0.000752             |\n",
      "|   DotBot   |    4     |     618     |   -0.017914   |              0.000716             |\n",
      "| YandexBot  |    4     |     612     |   -0.017739   |              0.000713             |\n",
      "|  BLEXBot   |    4     |     586     |    -0.01698   |              0.000698             |\n",
      "|  bingbot   |    46    |     613     |   -0.016543   |              0.000689             |\n",
      "| SemrushBot |    5     |     569     |   -0.016455   |              0.000687             |\n",
      "| Bytespider |    41    |     603     |   -0.016397   |              0.000686             |\n",
      "+------------+----------+-------------+---------------+-----------------------------------+\n"
     ]
    }
   ],
   "source": [
    "draw_favorability_table(favorability_of_robots, favored_1d_series, disfavored_1d_series, f=-1)"
   ]
  },
  {
   "cell_type": "markdown",
   "id": "8625345e",
   "metadata": {},
   "source": [
    "## Analysing Russian domains"
   ]
  },
  {
   "cell_type": "code",
   "execution_count": 472,
   "id": "1b7058a4",
   "metadata": {},
   "outputs": [],
   "source": [
    "disfavored_1d_series, no_bias_1d_series, favored_1d_series, nb_of_times_appeared, top_10_appeared_bots_name, y_disfavored, y_no_bias, y_favored, total_number_of_user_agents, N = get_metrics(df_ru)"
   ]
  },
  {
   "cell_type": "code",
   "execution_count": 473,
   "id": "bf4408ef",
   "metadata": {},
   "outputs": [
    {
     "data": {
      "image/png": "[encoded data removed]",
      "text/plain": [
       "<Figure size 1440x720 with 1 Axes>"
      ]
     },
     "metadata": {
      "needs_background": "light"
     },
     "output_type": "display_data"
    }
   ],
   "source": [
    "plot_most_frequently_appeared_bots(top_10_appeared_bots_name, y_disfavored, y_no_bias, y_favored)"
   ]
  },
  {
   "cell_type": "code",
   "execution_count": 474,
   "id": "8204c314",
   "metadata": {},
   "outputs": [
    {
     "data": {
      "image/png": "[encoded data removed]",
      "text/plain": [
       "<Figure size 576x432 with 1 Axes>"
      ]
     },
     "metadata": {
      "needs_background": "light"
     },
     "output_type": "display_data"
    }
   ],
   "source": [
    "plot_number_of_time_bot_appears_distribution(nb_of_times_appeared, total_number_of_user_agents)"
   ]
  },
  {
   "cell_type": "code",
   "execution_count": 476,
   "id": "831251c6",
   "metadata": {},
   "outputs": [],
   "source": [
    "favorability_of_robots = get_bots_favorability(favored_1d_series, disfavored_1d_series, N)"
   ]
  },
  {
   "cell_type": "code",
   "execution_count": 478,
   "id": "dbb3bd64",
   "metadata": {},
   "outputs": [
    {
     "data": {
      "text/plain": [
       "Yandex                  0.036116\n",
       "Googlebot-Image         0.029292\n",
       "Googlebot               0.028009\n",
       "Mediapartners-Google    0.027645\n",
       "YandexImages            0.026489\n",
       "msnbot                  0.017448\n",
       "YaDirectBot             0.013648\n",
       "YandexDirect            0.007822\n",
       "GoogleBot               0.007822\n",
       "YadirectBot             0.005130\n",
       "dtype: float64"
      ]
     },
     "execution_count": 478,
     "metadata": {},
     "output_type": "execute_result"
    }
   ],
   "source": [
    "favorability_of_robots[:10]"
   ]
  },
  {
   "cell_type": "code",
   "execution_count": 479,
   "id": "681bd4c1",
   "metadata": {},
   "outputs": [
    {
     "name": "stdout",
     "output_type": "stream",
     "text": [
      "+----------------------+----------+-------------+---------------+-----------------------------------+\n",
      "|       Bot name       | #favored | #disfavored | #favorability | σ: categorical standard deviation |\n",
      "+----------------------+----------+-------------+---------------+-----------------------------------+\n",
      "|        Yandex        |   4161   |     1880    |    0.036116   |              0.000742             |\n",
      "|   Googlebot-Image    |   1902   |      52     |    0.029292   |              0.000671             |\n",
      "|      Googlebot       |   2459   |     690     |    0.028009   |              0.000657             |\n",
      "| Mediapartners-Google |   1768   |      22     |    0.027645   |              0.000652             |\n",
      "|     YandexImages     |   1713   |      40     |    0.026489   |              0.000639             |\n",
      "|        msnbot        |   1255   |     153     |    0.017448   |              0.000521             |\n",
      "|     YaDirectBot      |   868    |      6      |    0.013648   |              0.000462             |\n",
      "|     YandexDirect     |   520    |      26     |    0.007822   |              0.000351             |\n",
      "|      GoogleBot       |   553    |      59     |    0.007822   |              0.000351             |\n",
      "|     YadirectBot      |   328    |      4      |    0.00513    |              0.000284             |\n",
      "+----------------------+----------+-------------+---------------+-----------------------------------+\n"
     ]
    }
   ],
   "source": [
    "draw_favorability_table(favorability_of_robots, favored_1d_series, disfavored_1d_series, f=1)"
   ]
  },
  {
   "cell_type": "code",
   "execution_count": 480,
   "id": "f9faeead",
   "metadata": {},
   "outputs": [
    {
     "name": "stdout",
     "output_type": "stream",
     "text": [
      "+------------------+----------+-------------+---------------+-----------------------------------+\n",
      "|     Bot name     | #favored | #disfavored | #favorability | σ: categorical standard deviation |\n",
      "+------------------+----------+-------------+---------------+-----------------------------------+\n",
      "|    SemrushBot    |    69    |     2266    |   -0.034786   |              0.000729             |\n",
      "|    AhrefsBot     |   177    |     2354    |   -0.034469   |              0.000726             |\n",
      "|  SemrushBot-SA   |    9     |     1298    |   -0.020409   |              0.000563             |\n",
      "|     BLEXBot      |    17    |     626     |   -0.009642   |              0.000389             |\n",
      "|      dotbot      |    8     |     461     |   -0.007172   |              0.000336             |\n",
      "|      psbot       |    17    |     422     |   -0.006412   |              0.000318             |\n",
      "| Offline Explorer |    12    |     379     |   -0.005811   |              0.000302             |\n",
      "|    WebCopier     |    10    |     361     |   -0.005557   |              0.000296             |\n",
      "|       Wget       |    12    |     354     |   -0.005415   |              0.000292             |\n",
      "|   WebStripper    |    10    |     352     |   -0.005415   |              0.000292             |\n",
      "+------------------+----------+-------------+---------------+-----------------------------------+\n"
     ]
    }
   ],
   "source": [
    "draw_favorability_table(favorability_of_robots, favored_1d_series, disfavored_1d_series, f=-1)"
   ]
  },
  {
   "cell_type": "markdown",
   "id": "f9fc4ed4",
   "metadata": {},
   "source": [
    "## Analysing German domains"
   ]
  },
  {
   "cell_type": "code",
   "execution_count": 489,
   "id": "a95784ff",
   "metadata": {},
   "outputs": [],
   "source": [
    "disfavored_1d_series, no_bias_1d_series, favored_1d_series, nb_of_times_appeared, top_10_appeared_bots_name, y_disfavored, y_no_bias, y_favored, total_number_of_user_agents, N = get_metrics(df_de)"
   ]
  },
  {
   "cell_type": "code",
   "execution_count": 490,
   "id": "06a6837c",
   "metadata": {},
   "outputs": [
    {
     "data": {
      "image/png": "[encoded data removed]",
      "text/plain": [
       "<Figure size 1440x720 with 1 Axes>"
      ]
     },
     "metadata": {
      "needs_background": "light"
     },
     "output_type": "display_data"
    }
   ],
   "source": [
    "plot_most_frequently_appeared_bots(top_10_appeared_bots_name, y_disfavored, y_no_bias, y_favored)"
   ]
  },
  {
   "cell_type": "code",
   "execution_count": 491,
   "id": "5b185a3d",
   "metadata": {},
   "outputs": [
    {
     "data": {
      "image/png": "[encoded data removed]",
      "text/plain": [
       "<Figure size 576x432 with 1 Axes>"
      ]
     },
     "metadata": {
      "needs_background": "light"
     },
     "output_type": "display_data"
    }
   ],
   "source": [
    "plot_number_of_time_bot_appears_distribution(nb_of_times_appeared, total_number_of_user_agents)"
   ]
  },
  {
   "cell_type": "code",
   "execution_count": 492,
   "id": "6dcc1da4",
   "metadata": {},
   "outputs": [],
   "source": [
    "favorability_of_robots = get_bots_favorability(favored_1d_series, disfavored_1d_series, N)"
   ]
  },
  {
   "cell_type": "code",
   "execution_count": 493,
   "id": "eb9b3ba0",
   "metadata": {},
   "outputs": [
    {
     "data": {
      "text/plain": [
       "Googlebot               0.036072\n",
       "DuckDuckBot             0.021063\n",
       "BingBot                 0.019896\n",
       "Mediapartners-Google    0.019045\n",
       "bingbot                 0.018375\n",
       "Yahoo! Slurp            0.012971\n",
       "Seznambot               0.008303\n",
       "rdfbot                  0.008293\n",
       "YetiBot                 0.008293\n",
       "ichiro                  0.008150\n",
       "dtype: float64"
      ]
     },
     "execution_count": 493,
     "metadata": {},
     "output_type": "execute_result"
    }
   ],
   "source": [
    "favorability_of_robots[:10]"
   ]
  },
  {
   "cell_type": "code",
   "execution_count": 494,
   "id": "219f71d2",
   "metadata": {},
   "outputs": [
    {
     "name": "stdout",
     "output_type": "stream",
     "text": [
      "+----------------------+----------+-------------+---------------+-----------------------------------+\n",
      "|       Bot name       | #favored | #disfavored | #favorability | σ: categorical standard deviation |\n",
      "+----------------------+----------+-------------+---------------+-----------------------------------+\n",
      "|      Googlebot       |   4550   |     779     |    0.036072   |              0.000577             |\n",
      "|     DuckDuckBot      |   2249   |      47     |    0.021063   |              0.000444             |\n",
      "|       BingBot        |   2081   |      1      |    0.019896   |              0.000432             |\n",
      "| Mediapartners-Google |   2061   |      70     |    0.019045   |              0.000423             |\n",
      "|       bingbot        |   1987   |      66     |    0.018375   |              0.000415             |\n",
      "|     Yahoo! Slurp     |   1366   |      10     |    0.012971   |              0.00035              |\n",
      "|      Seznambot       |   868    |      0      |    0.008303   |              0.000281             |\n",
      "|        rdfbot        |   867    |      0      |    0.008293   |              0.00028              |\n",
      "|       YetiBot        |   867    |      0      |    0.008293   |              0.00028              |\n",
      "|        ichiro        |   879    |      27     |    0.00815    |              0.000278             |\n",
      "+----------------------+----------+-------------+---------------+-----------------------------------+\n"
     ]
    }
   ],
   "source": [
    "draw_favorability_table(favorability_of_robots, favored_1d_series, disfavored_1d_series, f=1)"
   ]
  },
  {
   "cell_type": "code",
   "execution_count": 495,
   "id": "599e8581",
   "metadata": {},
   "outputs": [
    {
     "name": "stdout",
     "output_type": "stream",
     "text": [
      "+----------------------+----------+-------------+---------------+-----------------------------------+\n",
      "|       Bot name       | #favored | #disfavored | #favorability | σ: categorical standard deviation |\n",
      "+----------------------+----------+-------------+---------------+-----------------------------------+\n",
      "|      AhrefsBot       |   221    |     1747    |   -0.014597   |              0.000371             |\n",
      "| AdsBot-Google-Mobile |   185    |     1580    |   -0.013344   |              0.000355             |\n",
      "|       MJ12bot        |   706    |     2044    |   -0.012799   |              0.000348             |\n",
      "|    AdsBot-Google     |   312    |     1645    |   -0.012751   |              0.000347             |\n",
      "|      SemrushBot      |    45    |     1261    |   -0.011632   |              0.000332             |\n",
      "|      WebCopier       |    23    |     1018    |   -0.009518   |               0.0003              |\n",
      "|   Offline Explorer   |    20    |     935     |   -0.008752   |              0.000288             |\n",
      "|    EmailCollector    |    44    |     959     |   -0.008752   |              0.000288             |\n",
      "|        psbot         |    42    |     909     |   -0.008293   |              0.00028              |\n",
      "|     SiteSnagger      |    10    |     853     |   -0.008064   |              0.000277             |\n",
      "+----------------------+----------+-------------+---------------+-----------------------------------+\n"
     ]
    }
   ],
   "source": [
    "draw_favorability_table(favorability_of_robots, favored_1d_series, disfavored_1d_series, f=-1)"
   ]
  }
 ],
 "metadata": {
  "kernelspec": {
   "display_name": "Python 3 (ipykernel)",
   "language": "python",
   "name": "python3"
  },
  "language_info": {
   "codemirror_mode": {
    "name": "ipython",
    "version": 3
   },
   "file_extension": ".py",
   "mimetype": "text/x-python",
   "name": "python",
   "nbconvert_exporter": "python",
   "pygments_lexer": "ipython3",
   "version": "3.8.10"
  }
 },
 "nbformat": 4,
 "nbformat_minor": 5
}
